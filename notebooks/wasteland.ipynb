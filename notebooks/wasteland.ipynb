{
 "cells": [
  {
   "cell_type": "code",
   "execution_count": 1,
   "metadata": {},
   "outputs": [],
   "source": [
    "import sys\n",
    "sys.path.append(\"../\")"
   ]
  },
  {
   "cell_type": "code",
   "execution_count": 2,
   "metadata": {},
   "outputs": [],
   "source": [
    "import glob\n",
    "import torch\n",
    "import matplotlib.pyplot as plt\n",
    "import yaml\n",
    "import argparse\n",
    "from utils import yaml_parser\n",
    "from model_wrapper.cnn_wrapper import CNNWrapper\n",
    "import json\n",
    "import torch\n",
    "from model_wrapper import model_dict\n",
    "import random\n",
    "import numpy as np\n",
    "from utils import vis_square\n",
    "from scipy import stats\n",
    "from ptflops import get_model_complexity_info\n",
    "\n"
   ]
  },
  {
   "cell_type": "code",
   "execution_count": 30,
   "metadata": {},
   "outputs": [],
   "source": [
    "with open('../data/ncp/3ddet.json','r') as t:\n",
    "    record = json.load(t)"
   ]
  },
  {
   "cell_type": "code",
   "execution_count": 32,
   "metadata": {},
   "outputs": [
    {
     "data": {
      "text/plain": [
       "[{'input_channel': [48, 32],\n",
       "  'inverted_residual_setting': [[1, [4], [80]],\n",
       "   [1, [4], [80]],\n",
       "   [2, [1, 3], [96, 96]],\n",
       "   [2, [1, 3], [96, 96]],\n",
       "   [2, [1, 3], [96, 96]],\n",
       "   [3, [4, 3, 1], [32, 16, 112]],\n",
       "   [4, [3, 2, 2, 3], [64, 128, 16, 80]],\n",
       "   [4, [3, 2, 2, 3], [64, 128, 16, 80]],\n",
       "   [4, [3, 2, 2, 3], [64, 128, 16, 80]]],\n",
       "  'last_channel': 96},\n",
       " 75.38440015972203]"
      ]
     },
     "execution_count": 32,
     "metadata": {},
     "output_type": "execute_result"
    }
   ],
   "source": [
    "np.load('../log/exp-benchmark-config_loss_macs_nb101_nas-111-20220907-161317')"
   ]
  },
  {
   "cell_type": "code",
   "execution_count": 14,
   "metadata": {},
   "outputs": [],
   "source": [
    "with open('../configs/config_nb201_mse_12e-1.yaml', 'r') as f:\n",
    "    config = yaml_parser(yaml.unsafe_load(f))"
   ]
  },
  {
   "cell_type": "code",
   "execution_count": 8,
   "metadata": {},
   "outputs": [],
   "source": [
    "maclist = (glob.glob('../log/exp-benchmark-config_macs*'))"
   ]
  },
  {
   "cell_type": "code",
   "execution_count": 9,
   "metadata": {},
   "outputs": [],
   "source": [
    "maclist.sort()"
   ]
  },
  {
   "cell_type": "code",
   "execution_count": 12,
   "metadata": {},
   "outputs": [
    {
     "name": "stdout",
     "output_type": "stream",
     "text": [
      "../log/exp-benchmark-config_macs_amoeba-111-20220906-022726 -1853440000.0\n",
      "../log/exp-benchmark-config_macs_amoebain-111-20220906-022102 -877355008.0\n",
      "../log/exp-benchmark-config_macs_darts-111-20220906-021324 -515047424.0\n",
      "../log/exp-benchmark-config_macs_dartsfixwd-111-20220906-021859 -178651136.0\n",
      "../log/exp-benchmark-config_macs_dartsfixwdin-111-20220906-022149 -584392704.0\n",
      "../log/exp-benchmark-config_macs_dartsin-111-20220906-020120 -912556032.0\n",
      "../log/exp-benchmark-config_macs_dartsin-111-20220906-034547 -912556032.0\n",
      "../log/exp-benchmark-config_macs_enas-111-20220906-022131 -600064000.0\n",
      "../log/exp-benchmark-config_macs_enasfixwd-111-20220906-023609 -233881600.0\n",
      "../log/exp-benchmark-config_macs_enasin-111-20220906-022423 -842526720.0\n",
      "../log/exp-benchmark-config_macs_nasnet-111-20220906-032925 -1458520064.0\n",
      "../log/exp-benchmark-config_macs_nasnetin-111-20220906-021858 -908869632.0\n",
      "../log/exp-benchmark-config_macs_nb101-111-20220906-021223 -7218069504.0\n",
      "../log/exp-benchmark-config_macs_nb101imgnet-111-20220906-170237 -7218069504.0\n",
      "../log/exp-benchmark-config_macs_nb201-111-20220906-020718 -187166720.0\n",
      "../log/exp-benchmark-config_macs_nb201c100-111-20220906-020721 -187166720.0\n",
      "../log/exp-benchmark-config_macs_nb201tinyimg-111-20220906-021307 -187166720.0\n",
      "../log/exp-benchmark-config_macs_ncp_3ddet-111-20220906-023208 -12419122944.0\n",
      "../log/exp-benchmark-config_macs_ncp_cls-10-1000-111-20220906-023647 -13727907840.0\n",
      "../log/exp-benchmark-config_macs_ncp_cls-10c-111-20220906-020720 -13727907840.0\n",
      "../log/exp-benchmark-config_macs_ncp_cls-50-100-111-20220906-023822 -13727907840.0\n",
      "../log/exp-benchmark-config_macs_ncp_cls-50-1000-111-20220906-021153 -13727907840.0\n",
      "../log/exp-benchmark-config_macs_ncp_seg-111-20220906-022106 -13727907840.0\n",
      "../log/exp-benchmark-config_macs_ncp_seg-4x-111-20220906-021629 -13727907840.0\n",
      "../log/exp-benchmark-config_macs_ncp_video-111-20220906-022726 -13727907840.0\n",
      "../log/exp-benchmark-config_macs_ncp_video-p-111-20220906-023347 -13727907840.0\n",
      "../log/exp-benchmark-config_macs_pnas-111-20220906-033827 -1622589440.0\n",
      "../log/exp-benchmark-config_macs_pnasfixwd-111-20220906-031121 -540258304.0\n",
      "../log/exp-benchmark-config_macs_pnasin-111-20220906-021922 -898228224.0\n",
      "../log/exp-benchmark-config_macs_resnet-111-20220906-034606 -896475136.0\n",
      "../log/exp-benchmark-config_macs_resnexta-111-20220906-020719 -611136512.0\n",
      "../log/exp-benchmark-config_macs_resnextain-111-20220906-022447 -1226891264.0\n",
      "../log/exp-benchmark-config_macs_resnextb-111-20220906-020950 -898228224.0\n",
      "../log/exp-benchmark-config_macs_resnextbin-111-20220906-022501 -2751660032.0\n",
      "../log/exp-benchmark-config_macs_transmicroautoencoder-111-20220906-023017 -1505384448.0\n",
      "../log/exp-benchmark-config_macs_transmicroclassobject-111-20220906-031204 -1505384448.0\n",
      "../log/exp-benchmark-config_macs_transmicroclassscene-111-20220906-022518 -1505384448.0\n",
      "../log/exp-benchmark-config_macs_transmicrojigsaw-111-20220906-021949 -1505384448.0\n",
      "../log/exp-benchmark-config_macs_transmicronormal-111-20220906-022541 -1505384448.0\n",
      "../log/exp-benchmark-config_macs_transmicroroomlayout-111-20220906-023156 -1505384448.0\n",
      "../log/exp-benchmark-config_macs_transmicrosegmentsemantic-111-20220906-022826 -1505384448.0\n"
     ]
    }
   ],
   "source": [
    "for path in maclist:\n",
    "    try:\n",
    "        log_matrix = np.load(f'{path}/loss_matrix.npy',allow_pickle=True)\n",
    "        \n",
    "        print(path, float(min(log_matrix)))\n",
    "    except:\n",
    "        pass"
   ]
  },
  {
   "cell_type": "code",
   "execution_count": 27,
   "metadata": {},
   "outputs": [],
   "source": [
    "log_matrix = np.load('../log/exp-benchmark-config_macs_nb101-111-20220906-021223/loss_matrix.npy',allow_pickle=True)\n",
    "train_archs_accs, eval_archs_accs = np.load('../log/exp-benchmark-config_macs_nb101-111-20220906-021223/benchmark.npy',allow_pickle=True)"
   ]
  },
  {
   "cell_type": "code",
   "execution_count": 28,
   "metadata": {},
   "outputs": [],
   "source": [
    "accs = []\n",
    "ranks = []\n",
    "for arch,acc in eval_archs_accs:\n",
    "    accs.append(acc)"
   ]
  },
  {
   "cell_type": "code",
   "execution_count": 31,
   "metadata": {},
   "outputs": [
    {
     "data": {
      "text/plain": [
       "-7218069504.0"
      ]
     },
     "execution_count": 31,
     "metadata": {},
     "output_type": "execute_result"
    }
   ],
   "source": [
    "min(log_matrix[:,0])"
   ]
  },
  {
   "cell_type": "code",
   "execution_count": 15,
   "metadata": {},
   "outputs": [],
   "source": [
    "import glob"
   ]
  },
  {
   "cell_type": "code",
   "execution_count": 19,
   "metadata": {},
   "outputs": [],
   "source": [
    "configs = glob.glob('../configs/config_macs_*')"
   ]
  },
  {
   "cell_type": "code",
   "execution_count": 21,
   "metadata": {},
   "outputs": [
    {
     "data": {
      "text/plain": [
       "'../configs/config_macs_nb201.yaml'"
      ]
     },
     "execution_count": 21,
     "metadata": {},
     "output_type": "execute_result"
    }
   ],
   "source": [
    "configs[0]"
   ]
  },
  {
   "cell_type": "code",
   "execution_count": 26,
   "metadata": {},
   "outputs": [
    {
     "name": "stdout",
     "output_type": "stream",
     "text": [
      "python do_train.py --config=config_macs_nb201 --gpu=0\n",
      "python do_train.py --config=config_macs_darts --gpu=0\n",
      "python do_train.py --config=config_macs_dartsfixwd --gpu=0\n",
      "python do_train.py --config=config_macs_amoeba --gpu=0\n",
      "python do_train.py --config=config_macs_enasfixwd --gpu=0\n",
      "python do_train.py --config=config_macs_pnasfixwd --gpu=0\n",
      "python do_train.py --config=config_macs_nasnet --gpu=0\n",
      "python do_train.py --config=config_macs_pnas --gpu=0\n",
      "python do_train.py --config=config_macs_dartsin --gpu=0\n",
      "python do_train.py --config=config_macs_resnet --gpu=0\n",
      "python do_train.py --config=config_macs_resnexta --gpu=1\n",
      "python do_train.py --config=config_macs_resnextb --gpu=1\n",
      "python do_train.py --config=config_macs_nb101 --gpu=1\n",
      "python do_train.py --config=config_macs_amoebain --gpu=1\n",
      "python do_train.py --config=config_macs_enas --gpu=1\n",
      "python do_train.py --config=config_macs_transmicrosegmentsemantic --gpu=1\n",
      "python do_train.py --config=config_macs_transmicroautoencoder --gpu=1\n",
      "python do_train.py --config=config_macs_ncp_3ddet --gpu=1\n",
      "python do_train.py --config=config_macs_ncp_cls-10-1000 --gpu=1\n",
      "python do_train.py --config=config_macs_transmicroclassobject --gpu=1\n",
      "python do_train.py --config=config_macs_ncp_cls-10c --gpu=2\n",
      "python do_train.py --config=config_macs_ncp_cls-50-1000 --gpu=2\n",
      "python do_train.py --config=config_macs_ncp_seg-4x --gpu=2\n",
      "python do_train.py --config=config_macs_ncp_seg --gpu=2\n",
      "python do_train.py --config=config_macs_transmicronormal --gpu=2\n",
      "python do_train.py --config=config_macs_ncp_video --gpu=2\n",
      "python do_train.py --config=config_macs_transmicroroomlayout --gpu=2\n",
      "python do_train.py --config=config_macs_ncp_video-p --gpu=2\n",
      "python do_train.py --config=config_macs_nb101imgnet --gpu=2\n",
      "python do_train.py --config=config_macs_ncp_cls-50-100 --gpu=2\n",
      "python do_train.py --config=config_macs_nb201c100 --gpu=3\n",
      "python do_train.py --config=config_macs_nb201tinyimg --gpu=3\n",
      "python do_train.py --config=config_macs_nasnetin --gpu=3\n",
      "python do_train.py --config=config_macs_pnasin --gpu=3\n",
      "python do_train.py --config=config_macs_transmicrojigsaw --gpu=3\n",
      "python do_train.py --config=config_macs_dartsfixwdin --gpu=3\n",
      "python do_train.py --config=config_macs_enasin --gpu=3\n",
      "python do_train.py --config=config_macs_resnextain --gpu=3\n",
      "python do_train.py --config=config_macs_resnextbin --gpu=3\n",
      "python do_train.py --config=config_macs_transmicroclassscene --gpu=3\n"
     ]
    }
   ],
   "source": [
    "for i, config in enumerate(configs):\n",
    "    string_config = config.replace('../configs/','').replace('.yaml','')\n",
    "    print(f'python do_train.py --config={string_config} --gpu={i//10}')"
   ]
  },
  {
   "cell_type": "code",
   "execution_count": 27,
   "metadata": {},
   "outputs": [],
   "source": [
    "import torch\n",
    "# from thop import profile\n",
    "from model_wrapper.backbones.model_ncp.supernet import MultiResolutionNet\n",
    "\n",
    "# Get model using input_channel & network_setting & last_channel\n",
    "model = MultiResolutionNet(input_channel=[16, 64],\n",
    "                           network_setting=[[1, [3], [128]],\n",
    "                            [2, [3, 3], [32, 48]],\n",
    "                            [2, [3, 3], [32, 48]],\n",
    "                            [2, [3, 3], [32, 48]],\n",
    "                            [3, [2, 3, 2], [16, 32, 16]],\n",
    "                            [3, [2, 3, 2], [16, 32, 16]],\n",
    "                            [4, [2, 4, 1, 1], [64, 112, 48, 80]]],\n",
    "                          last_channel=112)\n"
   ]
  },
  {
   "cell_type": "code",
   "execution_count": 28,
   "metadata": {},
   "outputs": [],
   "source": [
    "x = model.downsamples(torch.randn(1,3,32,32))\n",
    "# x = model.features([x])\n",
    "x = [x]"
   ]
  },
  {
   "cell_type": "code",
   "execution_count": null,
   "metadata": {},
   "outputs": [],
   "source": []
  },
  {
   "cell_type": "code",
   "execution_count": 29,
   "metadata": {},
   "outputs": [
    {
     "name": "stdout",
     "output_type": "stream",
     "text": [
      "128\n",
      "128\n",
      "80\n",
      "80\n",
      "80\n",
      "80\n",
      "80\n",
      "80\n",
      "64\n",
      "64\n",
      "64\n",
      "64\n",
      "304\n",
      "304\n"
     ]
    }
   ],
   "source": [
    "for feature in model.features:\n",
    "    x = feature(x)\n",
    "    total = 0\n",
    "    if type(x) == list:\n",
    "        for sub in x:\n",
    "            total += sub.size(1)\n",
    "        print(total)"
   ]
  },
  {
   "cell_type": "code",
   "execution_count": null,
   "metadata": {},
   "outputs": [],
   "source": []
  },
  {
   "cell_type": "code",
   "execution_count": null,
   "metadata": {},
   "outputs": [],
   "source": []
  },
  {
   "cell_type": "code",
   "execution_count": 5,
   "metadata": {},
   "outputs": [
    {
     "data": {
      "text/plain": [
       "(torch.Size([1, 64, 32, 32]),\n",
       " torch.Size([1, 112, 16, 16]),\n",
       " torch.Size([1, 48, 8, 8]),\n",
       " torch.Size([1, 80, 4, 4]))"
      ]
     },
     "execution_count": 5,
     "metadata": {},
     "output_type": "execute_result"
    }
   ],
   "source": [
    "x[0].shape, x[1].shape, x[2].shape, x[3].shape"
   ]
  },
  {
   "cell_type": "code",
   "execution_count": 6,
   "metadata": {},
   "outputs": [],
   "source": [
    "with open('../../b_clean_folder/exp/sample_task_barrier_ResNeXt-B_none_CONF_BN_SAMPLE_RES_1000_none_none_16_64_cifar10_10_111/record.json','r') as t:\n",
    "    results = json.load(t)"
   ]
  },
  {
   "cell_type": "code",
   "execution_count": null,
   "metadata": {},
   "outputs": [],
   "source": []
  },
  {
   "cell_type": "code",
   "execution_count": 51,
   "metadata": {},
   "outputs": [],
   "source": [
    "accs = []\n",
    "preds = []\n",
    "for arch, pred in results:\n",
    "    accs.append(nds.get_final_accuracy(int(arch), None, None))\n",
    "    preds.append(pred[0])\n"
   ]
  },
  {
   "cell_type": "code",
   "execution_count": 52,
   "metadata": {},
   "outputs": [
    {
     "data": {
      "text/plain": [
       "<matplotlib.collections.PathCollection at 0x7fab4c4d5430>"
      ]
     },
     "execution_count": 52,
     "metadata": {},
     "output_type": "execute_result"
    },
    {
     "data": {
      "image/png": "[encoded data removed]",
      "text/plain": [
       "<Figure size 432x288 with 1 Axes>"
      ]
     },
     "metadata": {
      "needs_background": "light"
     },
     "output_type": "display_data"
    }
   ],
   "source": [
    "plt.ylim(0,5)\n",
    "plt.scatter(accs, preds)"
   ]
  },
  {
   "cell_type": "code",
   "execution_count": 12,
   "metadata": {},
   "outputs": [],
   "source": [
    "log_matrix = np.load('../log/exp-benchmark-config_nb201_mse_12e-1-111-20220905-152238/loss_matrix.npy',allow_pickle=True)\n",
    "train_archs_accs, eval_archs_accs = np.load('../log/exp-benchmark-config_nb201_mse_12e-1-111-20220905-152238/benchmark.npy',allow_pickle=True)"
   ]
  },
  {
   "cell_type": "code",
   "execution_count": 13,
   "metadata": {},
   "outputs": [],
   "source": [
    "accs = []\n",
    "ranks = []\n",
    "for arch,acc in eval_archs_accs:\n",
    "    accs.append(acc)\n",
    "for i in range(10):\n",
    "    ranks.append(stats.spearmanr(accs, log_matrix[:,i]))"
   ]
  },
  {
   "cell_type": "code",
   "execution_count": null,
   "metadata": {},
   "outputs": [],
   "source": []
  },
  {
   "cell_type": "code",
   "execution_count": 14,
   "metadata": {},
   "outputs": [
    {
     "data": {
      "text/plain": [
       "[<matplotlib.lines.Line2D at 0x7fbb95ef1850>,\n",
       " <matplotlib.lines.Line2D at 0x7fbb95ef18b0>]"
      ]
     },
     "execution_count": 14,
     "metadata": {},
     "output_type": "execute_result"
    },
    {
     "data": {
      "image/png": "[encoded data removed]",
      "text/plain": [
       "<Figure size 432x288 with 1 Axes>"
      ]
     },
     "metadata": {
      "needs_background": "light"
     },
     "output_type": "display_data"
    }
   ],
   "source": [
    "plt.plot(ranks)"
   ]
  },
  {
   "cell_type": "code",
   "execution_count": 15,
   "metadata": {},
   "outputs": [
    {
     "data": {
      "text/plain": [
       "(80.0, 100.0)"
      ]
     },
     "execution_count": 15,
     "metadata": {},
     "output_type": "execute_result"
    },
    {
     "data": {
      "image/png": "[encoded data removed]",
      "text/plain": [
       "<Figure size 432x288 with 1 Axes>"
      ]
     },
     "metadata": {
      "needs_background": "light"
     },
     "output_type": "display_data"
    }
   ],
   "source": [
    "plt.scatter(accs, log_matrix[:,-1], s = 1)\n",
    "plt.xlim(80,100)"
   ]
  },
  {
   "cell_type": "code",
   "execution_count": 3,
   "metadata": {},
   "outputs": [
    {
     "name": "stderr",
     "output_type": "stream",
     "text": [
      "/usr/scratch/yli3521/miniconda3/envs/debug/lib/python3.9/site-packages/scipy/stats/stats.py:4484: SpearmanRConstantInputWarning: An input array is constant; the correlation coefficient is not defined.\n",
      "  warnings.warn(SpearmanRConstantInputWarning())\n"
     ]
    }
   ],
   "source": [
    "rank = stats.spearmanr([0,0,0], [0,0,0])\n"
   ]
  },
  {
   "cell_type": "code",
   "execution_count": 11,
   "metadata": {},
   "outputs": [],
   "source": [
    "dot = torch.randint(-1, 1, [16, 512, 8, 8]).float() * 2 + 1\n",
    "torch.save(dot, '../data/features/dot.pth')"
   ]
  },
  {
   "cell_type": "code",
   "execution_count": 3,
   "metadata": {},
   "outputs": [],
   "source": [
    "net_features = torch.load('../data/features/net.pth')"
   ]
  },
  {
   "cell_type": "code",
   "execution_count": 6,
   "metadata": {},
   "outputs": [
    {
     "data": {
      "image/png": "[encoded data removed]",
      "text/plain": [
       "<Figure size 432x288 with 1 Axes>"
      ]
     },
     "metadata": {
      "needs_background": "light"
     },
     "output_type": "display_data"
    }
   ],
   "source": [
    "vis_square(net_features[0,:32])"
   ]
  },
  {
   "cell_type": "code",
   "execution_count": 5,
   "metadata": {},
   "outputs": [
    {
     "data": {
      "text/plain": [
       "<matplotlib.image.AxesImage at 0x7f51e833da30>"
      ]
     },
     "execution_count": 5,
     "metadata": {},
     "output_type": "execute_result"
    },
    {
     "data": {
      "image/png": "[encoded data removed]",
      "text/plain": [
       "<Figure size 432x288 with 1 Axes>"
      ]
     },
     "metadata": {
      "needs_background": "light"
     },
     "output_type": "display_data"
    }
   ],
   "source": [
    "plt.imshow(net_features[0,-1].reshape(32))"
   ]
  },
  {
   "cell_type": "code",
   "execution_count": 25,
   "metadata": {},
   "outputs": [],
   "source": [
    "from model_wrapper.backbones.model_nds.pycls.models.nas.fbnas import NDS"
   ]
  },
  {
   "cell_type": "code",
   "execution_count": 95,
   "metadata": {},
   "outputs": [],
   "source": [
    "nds = NDS('DARTS_fix-w-d','../data/download_data/nds_data/')"
   ]
  },
  {
   "cell_type": "code",
   "execution_count": 98,
   "metadata": {},
   "outputs": [],
   "source": [
    "# nds.get_network(0)"
   ]
  },
  {
   "cell_type": "code",
   "execution_count": 96,
   "metadata": {},
   "outputs": [
    {
     "data": {
      "text/plain": [
       "{'aux': False,\n",
       " 'depth': 20,\n",
       " 'drop_prob': 0.0,\n",
       " 'genotype': {'normal': [['avg_pool_3x3', 1],\n",
       "   ['dil_conv_3x3', 1],\n",
       "   ['dil_conv_5x5', 0],\n",
       "   ['dil_conv_3x3', 0],\n",
       "   ['dil_conv_5x5', 2],\n",
       "   ['dil_conv_3x3', 2],\n",
       "   ['none', 4],\n",
       "   ['skip_connect', 1]],\n",
       "  'normal_concat': [2, 3, 4, 5],\n",
       "  'reduce': [['none', 0],\n",
       "   ['max_pool_3x3', 1],\n",
       "   ['dil_conv_5x5', 2],\n",
       "   ['dil_conv_3x3', 2],\n",
       "   ['max_pool_3x3', 3],\n",
       "   ['max_pool_3x3', 1],\n",
       "   ['skip_connect', 4],\n",
       "   ['skip_connect', 1]],\n",
       "  'reduce_concat': [2, 3, 4, 5]},\n",
       " 'width': 16}"
      ]
     },
     "execution_count": 96,
     "metadata": {},
     "output_type": "execute_result"
    }
   ],
   "source": [
    "nds.get_network_config(0)"
   ]
  },
  {
   "cell_type": "code",
   "execution_count": 85,
   "metadata": {},
   "outputs": [
    {
     "data": {
      "text/plain": [
       "{'block_type': 'res_bottleneck_block',\n",
       " 'bot_muls': [1.0, 0.25, 0.25, 0.25],\n",
       " 'ds': [1, 2, 2, 4],\n",
       " 'num_gs': [1, 2, 16, 8],\n",
       " 'ss': [1, 1, 2, 2],\n",
       " 'ws': [16, 64, 512, 64]}"
      ]
     },
     "execution_count": 85,
     "metadata": {},
     "output_type": "execute_result"
    }
   ],
   "source": [
    "nds.get_network_config(20)"
   ]
  },
  {
   "cell_type": "code",
   "execution_count": 14,
   "metadata": {},
   "outputs": [
    {
     "data": {
      "text/plain": [
       "True"
      ]
     },
     "execution_count": 14,
     "metadata": {},
     "output_type": "execute_result"
    }
   ],
   "source": [
    "'sin' in ['sin']"
   ]
  },
  {
   "cell_type": "code",
   "execution_count": 17,
   "metadata": {},
   "outputs": [],
   "source": [
    "a = list(np.arange(len(config.backbone_config.NDS )))"
   ]
  },
  {
   "cell_type": "code",
   "execution_count": 18,
   "metadata": {},
   "outputs": [],
   "source": [
    "random.shuffle(a)"
   ]
  },
  {
   "cell_type": "code",
   "execution_count": null,
   "metadata": {},
   "outputs": [],
   "source": []
  },
  {
   "cell_type": "code",
   "execution_count": 4,
   "metadata": {},
   "outputs": [],
   "source": [
    "with open('../configs/nds_resnet_siam_mse_benchmark_12e-1.yaml', 'r') as f:\n",
    "    config = yaml_parser(yaml.unsafe_load(f))"
   ]
  },
  {
   "cell_type": "code",
   "execution_count": 5,
   "metadata": {},
   "outputs": [
    {
     "data": {
      "text/plain": [
       "torch.Size([3, 512, 8, 8])"
      ]
     },
     "execution_count": 5,
     "metadata": {},
     "output_type": "execute_result"
    }
   ],
   "source": [
    "config.backbone_config.search_space = 'ResNeXt-A'\n",
    "config.backbone_config.NDS = NDS(config.backbone_config.search_space,'../data/download_data/nds_data/')\n",
    "config.backbone_config.arch = random.choice(list(np.arange(len(config.backbone_config.NDS ))))\n",
    "model = CNNWrapper(config.backbone_config, config.head_config)#model_dict.BACKBONE_CONFIGS[config.backbone_config.model](config.backbone_config)\n",
    "model(torch.rand(3,3,32,32)).size()"
   ]
  },
  {
   "cell_type": "code",
   "execution_count": 6,
   "metadata": {},
   "outputs": [
    {
     "data": {
      "text/plain": [
       "CNNWrapper(\n",
       "  (backbone): BackboneNDS(\n",
       "    (model): AnyNet(\n",
       "      (stem): ResStemCifar(\n",
       "        (conv): Conv2d(3, 12, kernel_size=(3, 3), stride=(1, 1), padding=(1, 1), bias=False)\n",
       "        (bn): BatchNorm2d(12, eps=1e-05, momentum=0.1, affine=True, track_running_stats=True)\n",
       "        (relu): ReLU(inplace=True)\n",
       "      )\n",
       "      (s1): AnyStage(\n",
       "        (b1): ResBottleneckBlock(\n",
       "          (proj): Conv2d(12, 16, kernel_size=(1, 1), stride=(1, 1), bias=False)\n",
       "          (bn): BatchNorm2d(16, eps=1e-05, momentum=0.1, affine=True, track_running_stats=True)\n",
       "          (f): BottleneckTransform(\n",
       "            (a): Conv2d(12, 16, kernel_size=(1, 1), stride=(1, 1), bias=False)\n",
       "            (a_bn): BatchNorm2d(16, eps=1e-05, momentum=0.1, affine=True, track_running_stats=True)\n",
       "            (a_relu): ReLU(inplace=True)\n",
       "            (b): Conv2d(16, 16, kernel_size=(3, 3), stride=(1, 1), padding=(1, 1), groups=16, bias=False)\n",
       "            (b_bn): BatchNorm2d(16, eps=1e-05, momentum=0.1, affine=True, track_running_stats=True)\n",
       "            (b_relu): ReLU(inplace=True)\n",
       "            (c): Conv2d(16, 16, kernel_size=(1, 1), stride=(1, 1), bias=False)\n",
       "            (c_bn): BatchNorm2d(16, eps=1e-05, momentum=0.1, affine=True, track_running_stats=True)\n",
       "          )\n",
       "          (relu): ReLU(inplace=True)\n",
       "        )\n",
       "      )\n",
       "      (s2): AnyStage(\n",
       "        (b1): ResBottleneckBlock(\n",
       "          (proj): Conv2d(16, 128, kernel_size=(1, 1), stride=(1, 1), bias=False)\n",
       "          (bn): BatchNorm2d(128, eps=1e-05, momentum=0.1, affine=True, track_running_stats=True)\n",
       "          (f): BottleneckTransform(\n",
       "            (a): Conv2d(16, 64, kernel_size=(1, 1), stride=(1, 1), bias=False)\n",
       "            (a_bn): BatchNorm2d(64, eps=1e-05, momentum=0.1, affine=True, track_running_stats=True)\n",
       "            (a_relu): ReLU(inplace=True)\n",
       "            (b): Conv2d(64, 64, kernel_size=(3, 3), stride=(1, 1), padding=(1, 1), groups=32, bias=False)\n",
       "            (b_bn): BatchNorm2d(64, eps=1e-05, momentum=0.1, affine=True, track_running_stats=True)\n",
       "            (b_relu): ReLU(inplace=True)\n",
       "            (c): Conv2d(64, 128, kernel_size=(1, 1), stride=(1, 1), bias=False)\n",
       "            (c_bn): BatchNorm2d(128, eps=1e-05, momentum=0.1, affine=True, track_running_stats=True)\n",
       "          )\n",
       "          (relu): ReLU(inplace=True)\n",
       "        )\n",
       "        (b2): ResBottleneckBlock(\n",
       "          (f): BottleneckTransform(\n",
       "            (a): Conv2d(128, 64, kernel_size=(1, 1), stride=(1, 1), bias=False)\n",
       "            (a_bn): BatchNorm2d(64, eps=1e-05, momentum=0.1, affine=True, track_running_stats=True)\n",
       "            (a_relu): ReLU(inplace=True)\n",
       "            (b): Conv2d(64, 64, kernel_size=(3, 3), stride=(1, 1), padding=(1, 1), groups=32, bias=False)\n",
       "            (b_bn): BatchNorm2d(64, eps=1e-05, momentum=0.1, affine=True, track_running_stats=True)\n",
       "            (b_relu): ReLU(inplace=True)\n",
       "            (c): Conv2d(64, 128, kernel_size=(1, 1), stride=(1, 1), bias=False)\n",
       "            (c_bn): BatchNorm2d(128, eps=1e-05, momentum=0.1, affine=True, track_running_stats=True)\n",
       "          )\n",
       "          (relu): ReLU(inplace=True)\n",
       "        )\n",
       "        (b3): ResBottleneckBlock(\n",
       "          (f): BottleneckTransform(\n",
       "            (a): Conv2d(128, 64, kernel_size=(1, 1), stride=(1, 1), bias=False)\n",
       "            (a_bn): BatchNorm2d(64, eps=1e-05, momentum=0.1, affine=True, track_running_stats=True)\n",
       "            (a_relu): ReLU(inplace=True)\n",
       "            (b): Conv2d(64, 64, kernel_size=(3, 3), stride=(1, 1), padding=(1, 1), groups=32, bias=False)\n",
       "            (b_bn): BatchNorm2d(64, eps=1e-05, momentum=0.1, affine=True, track_running_stats=True)\n",
       "            (b_relu): ReLU(inplace=True)\n",
       "            (c): Conv2d(64, 128, kernel_size=(1, 1), stride=(1, 1), bias=False)\n",
       "            (c_bn): BatchNorm2d(128, eps=1e-05, momentum=0.1, affine=True, track_running_stats=True)\n",
       "          )\n",
       "          (relu): ReLU(inplace=True)\n",
       "        )\n",
       "        (b4): ResBottleneckBlock(\n",
       "          (f): BottleneckTransform(\n",
       "            (a): Conv2d(128, 64, kernel_size=(1, 1), stride=(1, 1), bias=False)\n",
       "            (a_bn): BatchNorm2d(64, eps=1e-05, momentum=0.1, affine=True, track_running_stats=True)\n",
       "            (a_relu): ReLU(inplace=True)\n",
       "            (b): Conv2d(64, 64, kernel_size=(3, 3), stride=(1, 1), padding=(1, 1), groups=32, bias=False)\n",
       "            (b_bn): BatchNorm2d(64, eps=1e-05, momentum=0.1, affine=True, track_running_stats=True)\n",
       "            (b_relu): ReLU(inplace=True)\n",
       "            (c): Conv2d(64, 128, kernel_size=(1, 1), stride=(1, 1), bias=False)\n",
       "            (c_bn): BatchNorm2d(128, eps=1e-05, momentum=0.1, affine=True, track_running_stats=True)\n",
       "          )\n",
       "          (relu): ReLU(inplace=True)\n",
       "        )\n",
       "        (b5): ResBottleneckBlock(\n",
       "          (f): BottleneckTransform(\n",
       "            (a): Conv2d(128, 64, kernel_size=(1, 1), stride=(1, 1), bias=False)\n",
       "            (a_bn): BatchNorm2d(64, eps=1e-05, momentum=0.1, affine=True, track_running_stats=True)\n",
       "            (a_relu): ReLU(inplace=True)\n",
       "            (b): Conv2d(64, 64, kernel_size=(3, 3), stride=(1, 1), padding=(1, 1), groups=32, bias=False)\n",
       "            (b_bn): BatchNorm2d(64, eps=1e-05, momentum=0.1, affine=True, track_running_stats=True)\n",
       "            (b_relu): ReLU(inplace=True)\n",
       "            (c): Conv2d(64, 128, kernel_size=(1, 1), stride=(1, 1), bias=False)\n",
       "            (c_bn): BatchNorm2d(128, eps=1e-05, momentum=0.1, affine=True, track_running_stats=True)\n",
       "          )\n",
       "          (relu): ReLU(inplace=True)\n",
       "        )\n",
       "        (b6): ResBottleneckBlock(\n",
       "          (f): BottleneckTransform(\n",
       "            (a): Conv2d(128, 64, kernel_size=(1, 1), stride=(1, 1), bias=False)\n",
       "            (a_bn): BatchNorm2d(64, eps=1e-05, momentum=0.1, affine=True, track_running_stats=True)\n",
       "            (a_relu): ReLU(inplace=True)\n",
       "            (b): Conv2d(64, 64, kernel_size=(3, 3), stride=(1, 1), padding=(1, 1), groups=32, bias=False)\n",
       "            (b_bn): BatchNorm2d(64, eps=1e-05, momentum=0.1, affine=True, track_running_stats=True)\n",
       "            (b_relu): ReLU(inplace=True)\n",
       "            (c): Conv2d(64, 128, kernel_size=(1, 1), stride=(1, 1), bias=False)\n",
       "            (c_bn): BatchNorm2d(128, eps=1e-05, momentum=0.1, affine=True, track_running_stats=True)\n",
       "          )\n",
       "          (relu): ReLU(inplace=True)\n",
       "        )\n",
       "        (b7): ResBottleneckBlock(\n",
       "          (f): BottleneckTransform(\n",
       "            (a): Conv2d(128, 64, kernel_size=(1, 1), stride=(1, 1), bias=False)\n",
       "            (a_bn): BatchNorm2d(64, eps=1e-05, momentum=0.1, affine=True, track_running_stats=True)\n",
       "            (a_relu): ReLU(inplace=True)\n",
       "            (b): Conv2d(64, 64, kernel_size=(3, 3), stride=(1, 1), padding=(1, 1), groups=32, bias=False)\n",
       "            (b_bn): BatchNorm2d(64, eps=1e-05, momentum=0.1, affine=True, track_running_stats=True)\n",
       "            (b_relu): ReLU(inplace=True)\n",
       "            (c): Conv2d(64, 128, kernel_size=(1, 1), stride=(1, 1), bias=False)\n",
       "            (c_bn): BatchNorm2d(128, eps=1e-05, momentum=0.1, affine=True, track_running_stats=True)\n",
       "          )\n",
       "          (relu): ReLU(inplace=True)\n",
       "        )\n",
       "        (b8): ResBottleneckBlock(\n",
       "          (f): BottleneckTransform(\n",
       "            (a): Conv2d(128, 64, kernel_size=(1, 1), stride=(1, 1), bias=False)\n",
       "            (a_bn): BatchNorm2d(64, eps=1e-05, momentum=0.1, affine=True, track_running_stats=True)\n",
       "            (a_relu): ReLU(inplace=True)\n",
       "            (b): Conv2d(64, 64, kernel_size=(3, 3), stride=(1, 1), padding=(1, 1), groups=32, bias=False)\n",
       "            (b_bn): BatchNorm2d(64, eps=1e-05, momentum=0.1, affine=True, track_running_stats=True)\n",
       "            (b_relu): ReLU(inplace=True)\n",
       "            (c): Conv2d(64, 128, kernel_size=(1, 1), stride=(1, 1), bias=False)\n",
       "            (c_bn): BatchNorm2d(128, eps=1e-05, momentum=0.1, affine=True, track_running_stats=True)\n",
       "          )\n",
       "          (relu): ReLU(inplace=True)\n",
       "        )\n",
       "      )\n",
       "      (s3): AnyStage(\n",
       "        (b1): ResBottleneckBlock(\n",
       "          (proj): Conv2d(128, 32, kernel_size=(1, 1), stride=(2, 2), bias=False)\n",
       "          (bn): BatchNorm2d(32, eps=1e-05, momentum=0.1, affine=True, track_running_stats=True)\n",
       "          (f): BottleneckTransform(\n",
       "            (a): Conv2d(128, 8, kernel_size=(1, 1), stride=(1, 1), bias=False)\n",
       "            (a_bn): BatchNorm2d(8, eps=1e-05, momentum=0.1, affine=True, track_running_stats=True)\n",
       "            (a_relu): ReLU(inplace=True)\n",
       "            (b): Conv2d(8, 8, kernel_size=(3, 3), stride=(2, 2), padding=(1, 1), groups=8, bias=False)\n",
       "            (b_bn): BatchNorm2d(8, eps=1e-05, momentum=0.1, affine=True, track_running_stats=True)\n",
       "            (b_relu): ReLU(inplace=True)\n",
       "            (c): Conv2d(8, 32, kernel_size=(1, 1), stride=(1, 1), bias=False)\n",
       "            (c_bn): BatchNorm2d(32, eps=1e-05, momentum=0.1, affine=True, track_running_stats=True)\n",
       "          )\n",
       "          (relu): ReLU(inplace=True)\n",
       "        )\n",
       "      )\n",
       "      (s4): AnyStage(\n",
       "        (b1): ResBottleneckBlock(\n",
       "          (proj): Conv2d(32, 64, kernel_size=(1, 1), stride=(2, 2), bias=False)\n",
       "          (bn): BatchNorm2d(64, eps=1e-05, momentum=0.1, affine=True, track_running_stats=True)\n",
       "          (f): BottleneckTransform(\n",
       "            (a): Conv2d(32, 64, kernel_size=(1, 1), stride=(1, 1), bias=False)\n",
       "            (a_bn): BatchNorm2d(64, eps=1e-05, momentum=0.1, affine=True, track_running_stats=True)\n",
       "            (a_relu): ReLU(inplace=True)\n",
       "            (b): Conv2d(64, 64, kernel_size=(3, 3), stride=(2, 2), padding=(1, 1), groups=16, bias=False)\n",
       "            (b_bn): BatchNorm2d(64, eps=1e-05, momentum=0.1, affine=True, track_running_stats=True)\n",
       "            (b_relu): ReLU(inplace=True)\n",
       "            (c): Conv2d(64, 64, kernel_size=(1, 1), stride=(1, 1), bias=False)\n",
       "            (c_bn): BatchNorm2d(64, eps=1e-05, momentum=0.1, affine=True, track_running_stats=True)\n",
       "          )\n",
       "          (relu): ReLU(inplace=True)\n",
       "        )\n",
       "      )\n",
       "      (head): AnyHead(\n",
       "        (avg_pool): AdaptiveAvgPool2d(output_size=(1, 1))\n",
       "        (fc): Linear(in_features=64, out_features=1, bias=True)\n",
       "      )\n",
       "    )\n",
       "  )\n",
       "  (head): HeadEmptyMidNDS(\n",
       "    (model): Sequential(\n",
       "      (0): Conv2d(64, 512, kernel_size=(1, 1), stride=(1, 1))\n",
       "      (1): ReLU()\n",
       "      (2): BatchNorm2d(512, eps=1e-05, momentum=0.1, affine=True, track_running_stats=True)\n",
       "    )\n",
       "  )\n",
       ")"
      ]
     },
     "execution_count": 6,
     "metadata": {},
     "output_type": "execute_result"
    }
   ],
   "source": [
    "model"
   ]
  },
  {
   "cell_type": "code",
   "execution_count": 20,
   "metadata": {},
   "outputs": [
    {
     "ename": "KeyboardInterrupt",
     "evalue": "",
     "output_type": "error",
     "traceback": [
      "\u001b[0;31m---------------------------------------------------------------------------\u001b[0m",
      "\u001b[0;31mKeyboardInterrupt\u001b[0m                         Traceback (most recent call last)",
      "\u001b[1;32m/usr/scratch/yli3521/GenNAS-Zero/notebooks/test_nb101.ipynb Cell 8\u001b[0m in \u001b[0;36m<cell line: 1>\u001b[0;34m()\u001b[0m\n\u001b[1;32m      <a href='vscode-notebook-cell://ssh-remote%2Bgatech/usr/scratch/yli3521/GenNAS-Zero/notebooks/test_nb101.ipynb#X32sdnNjb2RlLXJlbW90ZQ%3D%3D?line=0'>1</a>\u001b[0m \u001b[39mfor\u001b[39;00m search_space \u001b[39min\u001b[39;00m [\u001b[39m'\u001b[39m\u001b[39mDARTS\u001b[39m\u001b[39m'\u001b[39m,\u001b[39m'\u001b[39m\u001b[39mDARTS_in\u001b[39m\u001b[39m'\u001b[39m,\u001b[39m'\u001b[39m\u001b[39mDARTS_fix-w-d\u001b[39m\u001b[39m'\u001b[39m,\u001b[39m'\u001b[39m\u001b[39mDARTS_fix-w-d_in\u001b[39m\u001b[39m'\u001b[39m,\\\n\u001b[1;32m      <a href='vscode-notebook-cell://ssh-remote%2Bgatech/usr/scratch/yli3521/GenNAS-Zero/notebooks/test_nb101.ipynb#X32sdnNjb2RlLXJlbW90ZQ%3D%3D?line=1'>2</a>\u001b[0m                                      \u001b[39m'\u001b[39m\u001b[39mENAS\u001b[39m\u001b[39m'\u001b[39m,\u001b[39m'\u001b[39m\u001b[39mENAS_in\u001b[39m\u001b[39m'\u001b[39m,\u001b[39m'\u001b[39m\u001b[39mENAS_fix-w-d\u001b[39m\u001b[39m'\u001b[39m,\\\n\u001b[1;32m      <a href='vscode-notebook-cell://ssh-remote%2Bgatech/usr/scratch/yli3521/GenNAS-Zero/notebooks/test_nb101.ipynb#X32sdnNjb2RlLXJlbW90ZQ%3D%3D?line=2'>3</a>\u001b[0m                                      \u001b[39m'\u001b[39m\u001b[39mPNAS\u001b[39m\u001b[39m'\u001b[39m,\u001b[39m'\u001b[39m\u001b[39mPNAS_in\u001b[39m\u001b[39m'\u001b[39m,\u001b[39m'\u001b[39m\u001b[39mPNAS_fix-w-d\u001b[39m\u001b[39m'\u001b[39m,\\\n\u001b[1;32m      <a href='vscode-notebook-cell://ssh-remote%2Bgatech/usr/scratch/yli3521/GenNAS-Zero/notebooks/test_nb101.ipynb#X32sdnNjb2RlLXJlbW90ZQ%3D%3D?line=3'>4</a>\u001b[0m                                      \u001b[39m'\u001b[39m\u001b[39mAmoeba\u001b[39m\u001b[39m'\u001b[39m,\u001b[39m'\u001b[39m\u001b[39mAmoeba_in\u001b[39m\u001b[39m'\u001b[39m,\\\n\u001b[1;32m      <a href='vscode-notebook-cell://ssh-remote%2Bgatech/usr/scratch/yli3521/GenNAS-Zero/notebooks/test_nb101.ipynb#X32sdnNjb2RlLXJlbW90ZQ%3D%3D?line=4'>5</a>\u001b[0m                                      \u001b[39m'\u001b[39m\u001b[39mNASNet\u001b[39m\u001b[39m'\u001b[39m,\u001b[39m'\u001b[39m\u001b[39mNASNet_in\u001b[39m\u001b[39m'\u001b[39m, \\\n\u001b[1;32m      <a href='vscode-notebook-cell://ssh-remote%2Bgatech/usr/scratch/yli3521/GenNAS-Zero/notebooks/test_nb101.ipynb#X32sdnNjb2RlLXJlbW90ZQ%3D%3D?line=5'>6</a>\u001b[0m                                         \u001b[39m'\u001b[39m\u001b[39mResNet\u001b[39m\u001b[39m'\u001b[39m,\u001b[39m'\u001b[39m\u001b[39mResNeXt-A\u001b[39m\u001b[39m'\u001b[39m,\u001b[39m'\u001b[39m\u001b[39mResNeXt-A_in\u001b[39m\u001b[39m'\u001b[39m,\u001b[39m'\u001b[39m\u001b[39mResNeXt-B\u001b[39m\u001b[39m'\u001b[39m,\u001b[39m'\u001b[39m\u001b[39mResNeXt-B_in\u001b[39m\u001b[39m'\u001b[39m]:\n\u001b[1;32m      <a href='vscode-notebook-cell://ssh-remote%2Bgatech/usr/scratch/yli3521/GenNAS-Zero/notebooks/test_nb101.ipynb#X32sdnNjb2RlLXJlbW90ZQ%3D%3D?line=6'>7</a>\u001b[0m     config\u001b[39m.\u001b[39mbackbone_config\u001b[39m.\u001b[39msearch_space \u001b[39m=\u001b[39m search_space\n\u001b[0;32m----> <a href='vscode-notebook-cell://ssh-remote%2Bgatech/usr/scratch/yli3521/GenNAS-Zero/notebooks/test_nb101.ipynb#X32sdnNjb2RlLXJlbW90ZQ%3D%3D?line=7'>8</a>\u001b[0m     config\u001b[39m.\u001b[39mbackbone_config\u001b[39m.\u001b[39mNDS \u001b[39m=\u001b[39m NDS(config\u001b[39m.\u001b[39;49mbackbone_config\u001b[39m.\u001b[39;49msearch_space,\u001b[39m'\u001b[39;49m\u001b[39m../data/download_data/nds_data/\u001b[39;49m\u001b[39m'\u001b[39;49m)\n\u001b[1;32m      <a href='vscode-notebook-cell://ssh-remote%2Bgatech/usr/scratch/yli3521/GenNAS-Zero/notebooks/test_nb101.ipynb#X32sdnNjb2RlLXJlbW90ZQ%3D%3D?line=8'>9</a>\u001b[0m     config\u001b[39m.\u001b[39mbackbone_config\u001b[39m.\u001b[39march \u001b[39m=\u001b[39m random\u001b[39m.\u001b[39mchoice(\u001b[39mlist\u001b[39m(np\u001b[39m.\u001b[39marange(\u001b[39mlen\u001b[39m(config\u001b[39m.\u001b[39mbackbone_config\u001b[39m.\u001b[39mNDS ))))\n\u001b[1;32m     <a href='vscode-notebook-cell://ssh-remote%2Bgatech/usr/scratch/yli3521/GenNAS-Zero/notebooks/test_nb101.ipynb#X32sdnNjb2RlLXJlbW90ZQ%3D%3D?line=9'>10</a>\u001b[0m     model \u001b[39m=\u001b[39m CNNWrapper(config\u001b[39m.\u001b[39mbackbone_config, config\u001b[39m.\u001b[39mhead_config)\u001b[39m#model_dict.BACKBONE_CONFIGS[config.backbone_config.model](config.backbone_config)\u001b[39;00m\n",
      "File \u001b[0;32m/export/hdd/scratch/yli3521/GenNAS-Zero/notebooks/../model_wrapper/backbones/model_nds/pycls/models/nas/fbnas.py:41\u001b[0m, in \u001b[0;36mNDS.__init__\u001b[0;34m(self, searchspace, datapath)\u001b[0m\n\u001b[1;32m     38\u001b[0m \u001b[39mdef\u001b[39;00m \u001b[39m__init__\u001b[39m(\u001b[39mself\u001b[39m, searchspace, datapath):\n\u001b[1;32m     39\u001b[0m     \u001b[39mself\u001b[39m\u001b[39m.\u001b[39msearchspace \u001b[39m=\u001b[39m searchspace\n\u001b[0;32m---> 41\u001b[0m     data \u001b[39m=\u001b[39m json\u001b[39m.\u001b[39;49mload(\u001b[39mopen\u001b[39;49m(\u001b[39mf\u001b[39;49m\u001b[39m'\u001b[39;49m\u001b[39m{\u001b[39;49;00mdatapath\u001b[39m}\u001b[39;49;00m\u001b[39m/\u001b[39;49m\u001b[39m{\u001b[39;49;00msearchspace\u001b[39m}\u001b[39;49;00m\u001b[39m.json\u001b[39;49m\u001b[39m'\u001b[39;49m, \u001b[39m'\u001b[39;49m\u001b[39mr\u001b[39;49m\u001b[39m'\u001b[39;49m))\n\u001b[1;32m     42\u001b[0m     \u001b[39mtry\u001b[39;00m:\n\u001b[1;32m     43\u001b[0m         data \u001b[39m=\u001b[39m data[\u001b[39m'\u001b[39m\u001b[39mtop\u001b[39m\u001b[39m'\u001b[39m] \u001b[39m+\u001b[39m data[\u001b[39m'\u001b[39m\u001b[39mmid\u001b[39m\u001b[39m'\u001b[39m]\n",
      "File \u001b[0;32m/usr/scratch/yli3521/miniconda3/envs/debug/lib/python3.9/json/__init__.py:293\u001b[0m, in \u001b[0;36mload\u001b[0;34m(fp, cls, object_hook, parse_float, parse_int, parse_constant, object_pairs_hook, **kw)\u001b[0m\n\u001b[1;32m    274\u001b[0m \u001b[39mdef\u001b[39;00m \u001b[39mload\u001b[39m(fp, \u001b[39m*\u001b[39m, \u001b[39mcls\u001b[39m\u001b[39m=\u001b[39m\u001b[39mNone\u001b[39;00m, object_hook\u001b[39m=\u001b[39m\u001b[39mNone\u001b[39;00m, parse_float\u001b[39m=\u001b[39m\u001b[39mNone\u001b[39;00m,\n\u001b[1;32m    275\u001b[0m         parse_int\u001b[39m=\u001b[39m\u001b[39mNone\u001b[39;00m, parse_constant\u001b[39m=\u001b[39m\u001b[39mNone\u001b[39;00m, object_pairs_hook\u001b[39m=\u001b[39m\u001b[39mNone\u001b[39;00m, \u001b[39m*\u001b[39m\u001b[39m*\u001b[39mkw):\n\u001b[1;32m    276\u001b[0m     \u001b[39m\"\"\"Deserialize ``fp`` (a ``.read()``-supporting file-like object containing\u001b[39;00m\n\u001b[1;32m    277\u001b[0m \u001b[39m    a JSON document) to a Python object.\u001b[39;00m\n\u001b[1;32m    278\u001b[0m \n\u001b[0;32m   (...)\u001b[0m\n\u001b[1;32m    291\u001b[0m \u001b[39m    kwarg; otherwise ``JSONDecoder`` is used.\u001b[39;00m\n\u001b[1;32m    292\u001b[0m \u001b[39m    \"\"\"\u001b[39;00m\n\u001b[0;32m--> 293\u001b[0m     \u001b[39mreturn\u001b[39;00m loads(fp\u001b[39m.\u001b[39;49mread(),\n\u001b[1;32m    294\u001b[0m         \u001b[39mcls\u001b[39;49m\u001b[39m=\u001b[39;49m\u001b[39mcls\u001b[39;49m, object_hook\u001b[39m=\u001b[39;49mobject_hook,\n\u001b[1;32m    295\u001b[0m         parse_float\u001b[39m=\u001b[39;49mparse_float, parse_int\u001b[39m=\u001b[39;49mparse_int,\n\u001b[1;32m    296\u001b[0m         parse_constant\u001b[39m=\u001b[39;49mparse_constant, object_pairs_hook\u001b[39m=\u001b[39;49mobject_pairs_hook, \u001b[39m*\u001b[39;49m\u001b[39m*\u001b[39;49mkw)\n",
      "File \u001b[0;32m/usr/scratch/yli3521/miniconda3/envs/debug/lib/python3.9/json/__init__.py:346\u001b[0m, in \u001b[0;36mloads\u001b[0;34m(s, cls, object_hook, parse_float, parse_int, parse_constant, object_pairs_hook, **kw)\u001b[0m\n\u001b[1;32m    341\u001b[0m     s \u001b[39m=\u001b[39m s\u001b[39m.\u001b[39mdecode(detect_encoding(s), \u001b[39m'\u001b[39m\u001b[39msurrogatepass\u001b[39m\u001b[39m'\u001b[39m)\n\u001b[1;32m    343\u001b[0m \u001b[39mif\u001b[39;00m (\u001b[39mcls\u001b[39m \u001b[39mis\u001b[39;00m \u001b[39mNone\u001b[39;00m \u001b[39mand\u001b[39;00m object_hook \u001b[39mis\u001b[39;00m \u001b[39mNone\u001b[39;00m \u001b[39mand\u001b[39;00m\n\u001b[1;32m    344\u001b[0m         parse_int \u001b[39mis\u001b[39;00m \u001b[39mNone\u001b[39;00m \u001b[39mand\u001b[39;00m parse_float \u001b[39mis\u001b[39;00m \u001b[39mNone\u001b[39;00m \u001b[39mand\u001b[39;00m\n\u001b[1;32m    345\u001b[0m         parse_constant \u001b[39mis\u001b[39;00m \u001b[39mNone\u001b[39;00m \u001b[39mand\u001b[39;00m object_pairs_hook \u001b[39mis\u001b[39;00m \u001b[39mNone\u001b[39;00m \u001b[39mand\u001b[39;00m \u001b[39mnot\u001b[39;00m kw):\n\u001b[0;32m--> 346\u001b[0m     \u001b[39mreturn\u001b[39;00m _default_decoder\u001b[39m.\u001b[39;49mdecode(s)\n\u001b[1;32m    347\u001b[0m \u001b[39mif\u001b[39;00m \u001b[39mcls\u001b[39m \u001b[39mis\u001b[39;00m \u001b[39mNone\u001b[39;00m:\n\u001b[1;32m    348\u001b[0m     \u001b[39mcls\u001b[39m \u001b[39m=\u001b[39m JSONDecoder\n",
      "File \u001b[0;32m/usr/scratch/yli3521/miniconda3/envs/debug/lib/python3.9/json/decoder.py:337\u001b[0m, in \u001b[0;36mJSONDecoder.decode\u001b[0;34m(self, s, _w)\u001b[0m\n\u001b[1;32m    332\u001b[0m \u001b[39mdef\u001b[39;00m \u001b[39mdecode\u001b[39m(\u001b[39mself\u001b[39m, s, _w\u001b[39m=\u001b[39mWHITESPACE\u001b[39m.\u001b[39mmatch):\n\u001b[1;32m    333\u001b[0m     \u001b[39m\"\"\"Return the Python representation of ``s`` (a ``str`` instance\u001b[39;00m\n\u001b[1;32m    334\u001b[0m \u001b[39m    containing a JSON document).\u001b[39;00m\n\u001b[1;32m    335\u001b[0m \n\u001b[1;32m    336\u001b[0m \u001b[39m    \"\"\"\u001b[39;00m\n\u001b[0;32m--> 337\u001b[0m     obj, end \u001b[39m=\u001b[39m \u001b[39mself\u001b[39;49m\u001b[39m.\u001b[39;49mraw_decode(s, idx\u001b[39m=\u001b[39;49m_w(s, \u001b[39m0\u001b[39;49m)\u001b[39m.\u001b[39;49mend())\n\u001b[1;32m    338\u001b[0m     end \u001b[39m=\u001b[39m _w(s, end)\u001b[39m.\u001b[39mend()\n\u001b[1;32m    339\u001b[0m     \u001b[39mif\u001b[39;00m end \u001b[39m!=\u001b[39m \u001b[39mlen\u001b[39m(s):\n",
      "File \u001b[0;32m/usr/scratch/yli3521/miniconda3/envs/debug/lib/python3.9/json/decoder.py:353\u001b[0m, in \u001b[0;36mJSONDecoder.raw_decode\u001b[0;34m(self, s, idx)\u001b[0m\n\u001b[1;32m    344\u001b[0m \u001b[39m\"\"\"Decode a JSON document from ``s`` (a ``str`` beginning with\u001b[39;00m\n\u001b[1;32m    345\u001b[0m \u001b[39ma JSON document) and return a 2-tuple of the Python\u001b[39;00m\n\u001b[1;32m    346\u001b[0m \u001b[39mrepresentation and the index in ``s`` where the document ended.\u001b[39;00m\n\u001b[0;32m   (...)\u001b[0m\n\u001b[1;32m    350\u001b[0m \n\u001b[1;32m    351\u001b[0m \u001b[39m\"\"\"\u001b[39;00m\n\u001b[1;32m    352\u001b[0m \u001b[39mtry\u001b[39;00m:\n\u001b[0;32m--> 353\u001b[0m     obj, end \u001b[39m=\u001b[39m \u001b[39mself\u001b[39;49m\u001b[39m.\u001b[39;49mscan_once(s, idx)\n\u001b[1;32m    354\u001b[0m \u001b[39mexcept\u001b[39;00m \u001b[39mStopIteration\u001b[39;00m \u001b[39mas\u001b[39;00m err:\n\u001b[1;32m    355\u001b[0m     \u001b[39mraise\u001b[39;00m JSONDecodeError(\u001b[39m\"\u001b[39m\u001b[39mExpecting value\u001b[39m\u001b[39m\"\u001b[39m, s, err\u001b[39m.\u001b[39mvalue) \u001b[39mfrom\u001b[39;00m \u001b[39mNone\u001b[39m\n",
      "\u001b[0;31mKeyboardInterrupt\u001b[0m: "
     ]
    }
   ],
   "source": [
    "for search_space in ['DARTS','DARTS_in','DARTS_fix-w-d','DARTS_fix-w-d_in',\\\n",
    "                                     'ENAS','ENAS_in','ENAS_fix-w-d',\\\n",
    "                                     'PNAS','PNAS_in','PNAS_fix-w-d',\\\n",
    "                                     'Amoeba','Amoeba_in',\\\n",
    "                                     'NASNet','NASNet_in', \\\n",
    "                                        'ResNet','ResNeXt-A','ResNeXt-A_in','ResNeXt-B','ResNeXt-B_in']:\n",
    "    config.backbone_config.search_space = search_space\n",
    "    config.backbone_config.NDS = NDS(config.backbone_config.search_space,'../data/download_data/nds_data/')\n",
    "    config.backbone_config.arch = random.choice(list(np.arange(len(config.backbone_config.NDS ))))\n",
    "    model = CNNWrapper(config.backbone_config, config.head_config)#model_dict.BACKBONE_CONFIGS[config.backbone_config.model](config.backbone_config)\n",
    "    assert model(torch.rand(3,3,32,32)).size(-1) == 8"
   ]
  },
  {
   "cell_type": "code",
   "execution_count": 21,
   "metadata": {},
   "outputs": [
    {
     "data": {
      "text/plain": [
       "torch.Size([3, 512, 8, 8])"
      ]
     },
     "execution_count": 21,
     "metadata": {},
     "output_type": "execute_result"
    }
   ],
   "source": [
    "model(torch.rand(3,3,32,32)).size()"
   ]
  },
  {
   "cell_type": "code",
   "execution_count": 18,
   "metadata": {},
   "outputs": [],
   "source": [
    "model = model_dict.BACKBONE_CONFIGS[config.backbone_config.model](config.backbone_config)"
   ]
  },
  {
   "cell_type": "code",
   "execution_count": 19,
   "metadata": {},
   "outputs": [
    {
     "data": {
      "text/plain": [
       "torch.Size([3, 32, 8, 8])"
      ]
     },
     "execution_count": 19,
     "metadata": {},
     "output_type": "execute_result"
    }
   ],
   "source": [
    "model(torch.rand(3,3,32,32)).shape"
   ]
  },
  {
   "cell_type": "code",
   "execution_count": null,
   "metadata": {},
   "outputs": [],
   "source": []
  },
  {
   "cell_type": "code",
   "execution_count": null,
   "metadata": {},
   "outputs": [],
   "source": []
  },
  {
   "cell_type": "code",
   "execution_count": 11,
   "metadata": {},
   "outputs": [],
   "source": [
    "import math\n",
    "def positionalencoding2d(d_model, height, width):\n",
    "    \"\"\"\n",
    "    :param d_model: dimension of the model\n",
    "    :param height: height of the positions\n",
    "    :param width: width of the positions\n",
    "    :return: d_model*height*width position matrix\n",
    "    \"\"\"\n",
    "    if d_model % 4 != 0:\n",
    "        raise ValueError(\"Cannot use sin/cos positional encoding with \"\n",
    "                         \"odd dimension (got dim={:d})\".format(d_model))\n",
    "    pe = torch.zeros(d_model, height, width)\n",
    "    # Each dimension use half of d_model\n",
    "    d_model = int(d_model / 2)\n",
    "    div_term = torch.exp(torch.arange(0., d_model, 2) *\n",
    "                         -(math.log(10000.0) / d_model))\n",
    "    pos_w = torch.arange(0., width).unsqueeze(1)\n",
    "    pos_h = torch.arange(0., height).unsqueeze(1)\n",
    "    pe[0:d_model:2, :, :] = torch.sin(pos_w * div_term).transpose(0, 1).unsqueeze(1).repeat(1, height, 1)\n",
    "    pe[1:d_model:2, :, :] = torch.cos(pos_w * div_term).transpose(0, 1).unsqueeze(1).repeat(1, height, 1)\n",
    "    pe[d_model::2, :, :] = torch.sin(pos_h * div_term).transpose(0, 1).unsqueeze(2).repeat(1, 1, width)\n",
    "    pe[d_model + 1::2, :, :] = torch.cos(pos_h * div_term).transpose(0, 1).unsqueeze(2).repeat(1, 1, width)\n",
    "    return pe\n"
   ]
  },
  {
   "cell_type": "code",
   "execution_count": 15,
   "metadata": {},
   "outputs": [],
   "source": [
    "feature = positionalencoding2d(256,8,8)"
   ]
  },
  {
   "cell_type": "code",
   "execution_count": 41,
   "metadata": {},
   "outputs": [],
   "source": [
    "a = torch.load('../data/dataset/output.pth', map_location='cpu')"
   ]
  },
  {
   "cell_type": "code",
   "execution_count": 44,
   "metadata": {},
   "outputs": [
    {
     "data": {
      "text/plain": [
       "<matplotlib.image.AxesImage at 0x7f9bb84aa580>"
      ]
     },
     "execution_count": 44,
     "metadata": {},
     "output_type": "execute_result"
    },
    {
     "data": {
      "image/png": "[encoded data removed]",
      "text/plain": [
       "<Figure size 432x288 with 1 Axes>"
      ]
     },
     "metadata": {
      "needs_background": "light"
     },
     "output_type": "display_data"
    }
   ],
   "source": [
    "plt.imshow(a[-1,-2])"
   ]
  },
  {
   "cell_type": "code",
   "execution_count": 43,
   "metadata": {},
   "outputs": [
    {
     "data": {
      "text/plain": [
       "'0.002'"
      ]
     },
     "execution_count": 43,
     "metadata": {},
     "output_type": "execute_result"
    }
   ],
   "source": [
    "f'{0.002}'"
   ]
  },
  {
   "cell_type": "code",
   "execution_count": 3,
   "metadata": {},
   "outputs": [
    {
     "data": {
      "text/plain": [
       "['../model_wrapper/cnn_wrapper.py',\n",
       " '../model_wrapper/model_dict.py',\n",
       " '../model_wrapper/heads/head_nb101.py',\n",
       " '../model_wrapper/backbones/backbone_nb101.py',\n",
       " '../model_wrapper/backbones/model_nb101/model_nb101.py',\n",
       " '../model_wrapper/backbones/model_nb101/base_ops.py',\n",
       " '../model_wrapper/backbones/model_nb101/graph_util.py',\n",
       " '../model_wrapper/backbones/model_nb101/model_spec.py',\n",
       " '../model_wrapper/generators/simple_generator.py']"
      ]
     },
     "execution_count": 3,
     "metadata": {},
     "output_type": "execute_result"
    }
   ],
   "source": [
    "glob.glob('../model_wrapper/**/*.py', recursive=True)"
   ]
  },
  {
   "cell_type": "code",
   "execution_count": 4,
   "metadata": {},
   "outputs": [],
   "source": []
  },
  {
   "cell_type": "code",
   "execution_count": 5,
   "metadata": {},
   "outputs": [],
   "source": [
    "with open('../data/nb101/nasbench1_2500.json','r') as t:\n",
    "    archs_accs = json.load(t)"
   ]
  },
  {
   "cell_type": "code",
   "execution_count": 6,
   "metadata": {},
   "outputs": [],
   "source": [
    "arch, acc = archs_accs[0]"
   ]
  },
  {
   "cell_type": "code",
   "execution_count": 7,
   "metadata": {},
   "outputs": [],
   "source": [
    "with open('../configs/nb101_simple.yaml', 'r') as f:\n",
    "    config = yaml_parser(yaml.unsafe_load(f))\n",
    "\n"
   ]
  },
  {
   "cell_type": "code",
   "execution_count": 14,
   "metadata": {},
   "outputs": [
    {
     "data": {
      "text/plain": [
       "4e-05"
      ]
     },
     "execution_count": 14,
     "metadata": {},
     "output_type": "execute_result"
    }
   ],
   "source": [
    "(config.optim_g_config.weight_decay)"
   ]
  },
  {
   "cell_type": "code",
   "execution_count": 9,
   "metadata": {},
   "outputs": [],
   "source": [
    "config.backbone_config.arch = arch"
   ]
  },
  {
   "cell_type": "code",
   "execution_count": 10,
   "metadata": {},
   "outputs": [],
   "source": [
    "backbone_config = config.backbone_config\n",
    "head_config = config.head_config\n",
    "model = CNNWrapper(backbone_config, head_config)"
   ]
  },
  {
   "cell_type": "code",
   "execution_count": 21,
   "metadata": {},
   "outputs": [
    {
     "data": {
      "text/plain": [
       "torch.return_types.max(\n",
       "values=tensor([0.4871, 0.3014, 0.3138, 0.3526, 0.7189, 0.2491, 0.8333, 0.3806, 0.7044,\n",
       "        0.8462]),\n",
       "indices=tensor([0, 1, 0, 0, 0, 1, 0, 0, 1, 1]))"
      ]
     },
     "execution_count": 21,
     "metadata": {},
     "output_type": "execute_result"
    }
   ],
   "source": [
    "torch.max(torch.rand(10,2),1)"
   ]
  },
  {
   "cell_type": "code",
   "execution_count": 10,
   "metadata": {},
   "outputs": [],
   "source": [
    "a = torch.rand(32,3,32,32)"
   ]
  },
  {
   "cell_type": "code",
   "execution_count": 11,
   "metadata": {},
   "outputs": [
    {
     "data": {
      "text/plain": [
       "torch.Size([32, 2, 64, 8, 8])"
      ]
     },
     "execution_count": 11,
     "metadata": {},
     "output_type": "execute_result"
    }
   ],
   "source": [
    "model(a).shape"
   ]
  },
  {
   "cell_type": "code",
   "execution_count": 10,
   "metadata": {},
   "outputs": [
    {
     "data": {
      "text/plain": [
       "128"
      ]
     },
     "execution_count": 10,
     "metadata": {},
     "output_type": "execute_result"
    }
   ],
   "source": [
    "config.head_config.out_channel"
   ]
  },
  {
   "cell_type": "code",
   "execution_count": null,
   "metadata": {},
   "outputs": [],
   "source": []
  },
  {
   "cell_type": "code",
   "execution_count": null,
   "metadata": {},
   "outputs": [],
   "source": []
  }
 ],
 "metadata": {
  "kernelspec": {
   "display_name": "Python 3.9.7 ('debug': conda)",
   "language": "python",
   "name": "python3"
  },
  "language_info": {
   "codemirror_mode": {
    "name": "ipython",
    "version": 3
   },
   "file_extension": ".py",
   "mimetype": "text/x-python",
   "name": "python",
   "nbconvert_exporter": "python",
   "pygments_lexer": "ipython3",
   "version": "3.9.7"
  },
  "orig_nbformat": 4,
  "vscode": {
   "interpreter": {
    "hash": "fc511efdd58b723b54637a887aa5bfa2620e97eb59a51e84311831119345f598"
   }
  }
 },
 "nbformat": 4,
 "nbformat_minor": 2
}
