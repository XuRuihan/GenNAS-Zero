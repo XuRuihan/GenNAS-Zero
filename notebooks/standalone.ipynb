{
 "cells": [
  {
   "cell_type": "code",
   "execution_count": 1,
   "metadata": {},
   "outputs": [],
   "source": [
    "import sys\n",
    "sys.path.append(\"../\")"
   ]
  },
  {
   "cell_type": "code",
   "execution_count": 2,
   "metadata": {},
   "outputs": [],
   "source": [
    "# packages\n",
    "import torch\n",
    "import torch.nn as nn\n",
    "import torch.nn.functional as F\n",
    "import torch.optim as optim\n",
    "import numpy as np\n",
    "import matplotlib.pyplot as plt\n",
    "import model_wrapper.backbones.model_nb101.model_nb101 as model_nb101\n",
    "import model_wrapper.backbones.model_nb101.model_spec as model_spec\n",
    "from utils import load_one_batch_image\n",
    "import torch.optim as optim\n",
    "import json\n",
    "from tqdm import tqdm"
   ]
  },
  {
   "cell_type": "code",
   "execution_count": 3,
   "metadata": {},
   "outputs": [],
   "source": [
    "# visualize \n",
    "dot = torch.load('../data/features/dot.pth')\n",
    "net = torch.load('../data/features/net.pth')\n",
    "wave_h = torch.load('../data/features/wave_h.pth')\n",
    "wave_m = torch.load('../data/features/wave_m.pth')\n",
    "wave_l = torch.load('../data/features/wave_l.pth')"
   ]
  },
  {
   "cell_type": "code",
   "execution_count": 4,
   "metadata": {},
   "outputs": [
    {
     "data": {
      "image/png": "[encoded data removed]",
      "text/plain": [
       "<Figure size 1500x1500 with 5 Axes>"
      ]
     },
     "metadata": {},
     "output_type": "display_data"
    }
   ],
   "source": [
    "# visualize 5 different features\n",
    "fig, axs = plt.subplots(1, 5, figsize=(15, 15))\n",
    "axs[0].imshow(dot[0, 0, :, :].detach().numpy(), cmap='gray')\n",
    "axs[1].imshow(net[0, 0, :, :].detach().numpy(), cmap='gray')\n",
    "axs[2].imshow(wave_h[0, 0, :, :].detach().numpy(), cmap='gray')\n",
    "axs[3].imshow(wave_m[0, 0, :, :].detach().numpy(), cmap='gray')\n",
    "axs[4].imshow(wave_l[0, 0, :, :].detach().numpy(), cmap='gray')\n",
    "plt.show()"
   ]
  },
  {
   "cell_type": "code",
   "execution_count": 5,
   "metadata": {},
   "outputs": [],
   "source": [
    "# perform GenNAS on nasbench-101\n",
    "class CNNWrapper_NASBench101(nn.Module):\n",
    "    def __init__(self, \n",
    "                 arch, \n",
    "                 stem_out_channels = 32, \n",
    "                 num_stacks = 3, \n",
    "                 num_modules_per_stack = 3, \n",
    "                 num_labels = 10, \n",
    "                 transform_out_channels = 64,\n",
    "                 output_channels = 32):\n",
    "        super().__init__()\n",
    "        self.arch = arch\n",
    "        self.stem_out_channels = stem_out_channels\n",
    "        self.num_stacks = num_stacks\n",
    "        self.num_modules_per_stack = num_modules_per_stack\n",
    "        self.num_labels = num_labels\n",
    "        self.transform_out_channels = transform_out_channels\n",
    "        self.output_channels = output_channels\n",
    "        matrix, ops = arch\n",
    "        spec = model_spec._ToModelSpec(matrix, ops) # convert to model_spec\n",
    "        self.nb101_nn = model_nb101.Network(spec, stem_out_channels, num_stacks, num_modules_per_stack, num_labels) # create model backbone\n",
    "        self.transform_layer = nn.Sequential(\n",
    "                            nn.Conv2d(stem_out_channels * 4,transform_out_channels,1,padding=0),\n",
    "                            nn.ReLU(),\n",
    "                            nn.BatchNorm2d(transform_out_channels)) # transform layer\n",
    "        # bp: nb101_nn and transform_layer\n",
    "        # untrained: barrier_layer\n",
    "        self.barrier_layer = nn.Sequential(\n",
    "                            nn.Conv2d(transform_out_channels,output_channels,1,padding=0)) # barrier layer (todo: untrain)\n",
    "        # set barrier layer to untrain\n",
    "        for param in self.barrier_layer.parameters():\n",
    "            param.requires_grad = False\n",
    "    def no_ffn_forward(self, x):\n",
    "        # 32 x 32\n",
    "        for _, layer in enumerate(self.nb101_nn.layers):\n",
    "            x = layer(x)\n",
    "        return x # 8 x 8\n",
    "    def forward(self, x):\n",
    "        x = self.no_ffn_forward(x)\n",
    "        x = self.transform_layer(x)\n",
    "        x = self.barrier_layer(x)\n",
    "        return x"
   ]
  },
  {
   "cell_type": "code",
   "execution_count": 6,
   "metadata": {},
   "outputs": [
    {
     "name": "stdout",
     "output_type": "stream",
     "text": [
      "arch: [[[0, 1, 1, 1, 1, 0], [0, 0, 0, 1, 0, 1], [0, 0, 0, 1, 0, 0], [0, 0, 0, 0, 1, 0], [0, 0, 0, 0, 0, 1], [0, 0, 0, 0, 0, 0]], ['input', 'conv3x3-bn-relu', 'conv3x3-bn-relu', 'conv3x3-bn-relu', 'maxpool3x3', 'output']] acc: 0.9272035300731659\n"
     ]
    }
   ],
   "source": [
    "# load tiny model arch set\n",
    "with open('../data/nb101/nasbench1_20.json', 'r') as f:\n",
    "    archs_accs = json.load(f)\n",
    "print('arch:', archs_accs[0][0],'acc:', archs_accs[0][1])"
   ]
  },
  {
   "cell_type": "code",
   "execution_count": 7,
   "metadata": {},
   "outputs": [
    {
     "name": "stdout",
     "output_type": "stream",
     "text": [
      "output shape: torch.Size([1, 32, 8, 8])\n"
     ]
    }
   ],
   "source": [
    "# test model inference\n",
    "model_test = CNNWrapper_NASBench101(archs_accs[0][0])\n",
    "inp = torch.randn(1, 3, 32, 32)\n",
    "out = model_test(inp)\n",
    "print('output shape:', out.shape)"
   ]
  },
  {
   "cell_type": "code",
   "execution_count": 8,
   "metadata": {},
   "outputs": [
    {
     "name": "stdout",
     "output_type": "stream",
     "text": [
      "Files already downloaded and verified\n",
      "torch.Size([16, 32, 8, 8]) torch.Size([16, 3, 32, 32])\n",
      "cuda:0\n"
     ]
    },
    {
     "name": "stderr",
     "output_type": "stream",
     "text": [
      "100%|██████████| 20/20 [00:52<00:00,  2.64s/it]"
     ]
    },
    {
     "name": "stdout",
     "output_type": "stream",
     "text": [
      "done\n"
     ]
    },
    {
     "name": "stderr",
     "output_type": "stream",
     "text": [
      "\n"
     ]
    }
   ],
   "source": [
    "# benchmark models' performance using wave_h feature\n",
    "gt = wave_h[:16,:32,:,:] # ground truth features 16 x 32 x 8 x 8\n",
    "data = load_one_batch_image(type('', (), {'batch_size': 16})()) # cifar10 images 16 x 3 x 32 x 32\n",
    "print(gt.shape, data.shape)\n",
    "iteration = 100\n",
    "device = torch.device(\"cuda:0\" if torch.cuda.is_available() else \"cpu\")\n",
    "print(device)\n",
    "preds = []\n",
    "accs = []\n",
    "criterion = nn.MSELoss()\n",
    "for arch, acc in tqdm(archs_accs):\n",
    "\n",
    "    model = CNNWrapper_NASBench101(arch)\n",
    "    model.to(device)\n",
    "    optimizer = optim.SGD(model.parameters(), lr=0.1, momentum=0.9)\n",
    "    for i in range(iteration):\n",
    "        optimizer.zero_grad()\n",
    "        oup = model(data.to(device))\n",
    "        loss = criterion(oup, gt.to(device))\n",
    "        loss.backward()\n",
    "        optimizer.step()\n",
    "        \n",
    "    preds.append(loss.detach().cpu())\n",
    "    accs.append(acc)\n",
    "print('done')"
   ]
  },
  {
   "cell_type": "code",
   "execution_count": 9,
   "metadata": {},
   "outputs": [
    {
     "data": {
      "text/plain": [
       "Text(0, 0.5, 'log loss')"
      ]
     },
     "execution_count": 9,
     "metadata": {},
     "output_type": "execute_result"
    },
    {
     "data": {
      "image/png": "[encoded data removed]",
      "text/plain": [
       "<Figure size 640x480 with 1 Axes>"
      ]
     },
     "metadata": {},
     "output_type": "display_data"
    }
   ],
   "source": [
    "plt.scatter(accs, np.log(preds), s=10)\n",
    "plt.xlabel('accuracy')\n",
    "plt.ylabel('log loss')"
   ]
  },
  {
   "cell_type": "code",
   "execution_count": null,
   "metadata": {},
   "outputs": [],
   "source": []
  }
 ],
 "metadata": {
  "kernelspec": {
   "display_name": "pt1102",
   "language": "python",
   "name": "python3"
  },
  "language_info": {
   "codemirror_mode": {
    "name": "ipython",
    "version": 3
   },
   "file_extension": ".py",
   "mimetype": "text/x-python",
   "name": "python",
   "nbconvert_exporter": "python",
   "pygments_lexer": "ipython3",
   "version": "3.9.7"
  },
  "orig_nbformat": 4
 },
 "nbformat": 4,
 "nbformat_minor": 2
}
